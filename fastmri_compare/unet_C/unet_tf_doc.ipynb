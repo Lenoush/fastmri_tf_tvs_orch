{
 "cells": [
  {
   "cell_type": "markdown",
   "metadata": {},
   "source": [
    "### Importation "
   ]
  },
  {
   "cell_type": "code",
   "execution_count": 1,
   "metadata": {},
   "outputs": [],
   "source": [
    "import sys\n",
    "sys.path.append(\"/volatile/Lena/Codes/Modèles/fastmri_tf_vs_torch/fastmri_compare/vcr_C/\")\n",
    "import time"
   ]
  },
  {
   "cell_type": "code",
   "execution_count": 3,
   "metadata": {},
   "outputs": [],
   "source": [
    "# Time \n",
    "startTimer = time.time()\n",
    "\n",
    "from matplotlib import pyplot as plt\n",
    "from tensorflow.keras.callbacks import TensorBoard, ModelCheckpoint\n",
    "from tensorflow_addons.callbacks import TQDMProgressBar\n",
    "import os\n",
    "import h5py\n",
    "import tensorflow as tf\n",
    "\n",
    "from fastmri_recon.data.sequences.fastmri_sequences import ZeroFilled2DSequence\n",
    "from fastmri_recon.models.functional_models.unet import unet\n",
    "from vcr_tf import virtual_coil_reconstruction \n",
    "\n",
    "endTimerImport = time.time()"
   ]
  },
  {
   "cell_type": "markdown",
   "metadata": {},
   "source": [
    "### Load model : Unet "
   ]
  },
  {
   "cell_type": "code",
   "execution_count": 5,
   "metadata": {},
   "outputs": [
    {
     "name": "stderr",
     "output_type": "stream",
     "text": [
      "2024-03-29 09:57:32.900221: W tensorflow/stream_executor/platform/default/dso_loader.cc:64] Could not load dynamic library 'libcudnn.so.8'; dlerror: libcudnn.so.8: cannot open shared object file: No such file or directory\n",
      "2024-03-29 09:57:32.900269: W tensorflow/core/common_runtime/gpu/gpu_device.cc:1850] Cannot dlopen some GPU libraries. Please make sure the missing libraries mentioned above are installed properly if you would like to use GPU. Follow the guide at https://www.tensorflow.org/install/gpu for how to download and setup the required libraries for your platform.\n",
      "Skipping registering GPU devices...\n",
      "2024-03-29 09:57:32.908859: I tensorflow/core/platform/cpu_feature_guard.cc:151] This TensorFlow binary is optimized with oneAPI Deep Neural Network Library (oneDNN) to use the following CPU instructions in performance-critical operations:  AVX2 FMA\n",
      "To enable them in other operations, rebuild TensorFlow with the appropriate compiler flags.\n",
      "/volatile/Lena/Environments/fastmri/lib/python3.10/site-packages/tensorflow_addons/optimizers/rectified_adam.py:120: UserWarning: The `lr` argument is deprecated, use `learning_rate` instead.\n",
      "  super().__init__(name, **kwargs)\n"
     ]
    }
   ],
   "source": [
    "run_params = {\n",
    "    'n_layers': 4,\n",
    "    'pool': 'max',\n",
    "    \"layers_n_channels\": [16, 32, 64, 128],\n",
    "    'layers_n_non_lins': 2,\n",
    "}\n",
    "model = unet(input_size=(640, 320, 1), lr=1e-3, **run_params)"
   ]
  }
 ],
 "metadata": {
  "kernelspec": {
   "display_name": "fastmri",
   "language": "python",
   "name": "python3"
  },
  "language_info": {
   "codemirror_mode": {
    "name": "ipython",
    "version": 3
   },
   "file_extension": ".py",
   "mimetype": "text/x-python",
   "name": "python",
   "nbconvert_exporter": "python",
   "pygments_lexer": "ipython3",
   "version": "3.10.12"
  }
 },
 "nbformat": 4,
 "nbformat_minor": 2
}
